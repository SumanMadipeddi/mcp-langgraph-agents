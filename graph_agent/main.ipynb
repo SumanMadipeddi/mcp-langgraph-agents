{
 "cells": [
  {
   "cell_type": "code",
   "execution_count": null,
   "id": "03e9dcae",
   "metadata": {},
   "outputs": [],
   "source": [
    "from langchain.chat_models import init_chat_model\n",
    "from typing import TypedDict, Annotated\n",
    "from langgraph.graph import StateGraph, START, END\n",
    "from langgraph.graph.message import add_messages\n",
    "from langgraph.prebuilt import ToolNode, tools_condition\n",
    "from langgraph.checkpoint.memory import MemorySaver\n",
    "from langgraph.types import interrupt, Command\n",
    "from dotenv import load_dotenv\n",
    "load_dotenv()"
   ]
  },
  {
   "cell_type": "code",
   "execution_count": null,
   "id": "1cf14d61",
   "metadata": {},
   "outputs": [],
   "source": [
    "class MessageState(TypedDict):\n",
    "    messages: Annotated[list, add_messages]"
   ]
  },
  {
   "cell_type": "code",
   "execution_count": null,
   "id": "c48c6adc",
   "metadata": {},
   "outputs": [],
   "source": [
    "import httpx\n",
    "from typing import Any\n",
    "from langchain_core.tools import tool\n",
    "import asyncio\n",
    "\n",
    "API_BASE = \"https://api.weather.gov\"\n",
    "user_agent = \"weather-app/1.0\"\n",
    "\n",
    "async def make_request(url: str) -> dict[str, Any] | None:\n",
    "    \"\"\"Make a request to the NWS API with proper error handling.\"\"\"\n",
    "    headers = {\n",
    "        \"User-Agent\": user_agent,\n",
    "        \"Accept\": \"application/geo+json\"\n",
    "    }\n",
    "\n",
    "    async with httpx.AsyncClient() as client:\n",
    "        try:\n",
    "            response = await client.get(url, headers=headers, timeout=30.0)\n",
    "            response.raise_for_status()\n",
    "            return response.json()\n",
    "        except Exception:\n",
    "            return None\n",
    "\n",
    "def feature_alert(feature: str) -> str:\n",
    "    feat = feature[\"properties\"]\n",
    "    return f\"\"\"\n",
    "    Event: {feat.get('event', 'unknown')}\n",
    "    Area: {feat.get('areaDesc', 'Unknown')}\n",
    "    Severity: {feat.get('severity', 'Unknown')}\n",
    "    Description: {feat.get('description', 'No description available')}\n",
    "    Instructions: {feat.get('instruction', 'No specific instructions provided')}\n",
    "    \"\"\"\n",
    "\n",
    "@tool\n",
    "def get_alerts(state: str) -> str:\n",
    "    \"\"\"Get weather alerts for a US state.\n",
    "\n",
    "    Args:\n",
    "        state: Two-letter US state code (e.g. CA, NY)\n",
    "    \"\"\"\n",
    "    import nest_asyncio\n",
    "    nest_asyncio.apply()\n",
    "    \n",
    "    url = f\"{API_BASE}/alerts/active/area/{state}\"\n",
    "    \n",
    "    # Try to get or create event loop\n",
    "    try:\n",
    "        loop = asyncio.get_event_loop()\n",
    "        if loop.is_closed():\n",
    "            raise RuntimeError(\"Event loop is closed\")\n",
    "    except RuntimeError:\n",
    "        loop = asyncio.new_event_loop()\n",
    "        asyncio.set_event_loop(loop)\n",
    "    \n",
    "    data = loop.run_until_complete(make_request(url))\n",
    "\n",
    "    if not data or \"features\" not in data:\n",
    "        return \"Unable to fetch alerts\"\n",
    "\n",
    "    if not data[\"features\"]:\n",
    "        return \"No active alerts\"\n",
    "    # decision = interrupt(\"Approve to proceed to use weather tool\")\n",
    "    # if decision==\"yes\":\n",
    "    #     alerts = [feature_alert(feature) for feature in data[\"features\"]]\n",
    "    #     return \"\\n---\\n\".join(alerts)\n",
    "    # else:\n",
    "    #     return \"Error\"\n",
    "    alerts = [feature_alert(feature) for feature in data[\"features\"]]\n",
    "    return \"\\n---\\n\".join(alerts)\n",
    "\n",
    "tools = [get_alerts]\n",
    "llm = init_chat_model(\"google_genai:gemini-2.0-flash\")\n",
    "llm_with_tools = llm.bind_tools(tools)"
   ]
  },
  {
   "cell_type": "code",
   "execution_count": null,
   "id": "8bc77eca",
   "metadata": {},
   "outputs": [],
   "source": [
    "def chatbot(state: MessageState):\n",
    "    return {\"messages\": [llm_with_tools.invoke(state[\"messages\"])]}\n",
    "\n",
    "# memory=MemorySaver()\n",
    "builder=StateGraph(MessageState)\n",
    "\n",
    "builder.add_node(\"chatbot\",chatbot)\n",
    "builder.add_node(\"tools\",ToolNode(tools))\n",
    "\n",
    "builder.add_edge(START, \"chatbot\")\n",
    "builder.add_conditional_edges(\"chatbot\", tools_condition)\n",
    "builder.add_edge(\"tools\",\"chatbot\")\n",
    "builder.add_edge(\"chatbot\", END)\n",
    "\n",
    "graph=builder.compile()\n",
    "# graph=builder.compile(checkpointer=memory)\n",
    "# config = {\"configurable\": {\"thread_id\": \"buy_thread\"}}"
   ]
  },
  {
   "cell_type": "code",
   "execution_count": null,
   "id": "f19d0306",
   "metadata": {},
   "outputs": [],
   "source": [
    "from IPython.display import Image, display\n",
    "display(Image(graph.get_graph().draw_mermaid_png()))"
   ]
  },
  {
   "cell_type": "code",
   "execution_count": null,
   "id": "acca4609",
   "metadata": {},
   "outputs": [],
   "source": [
    "state = graph.invoke({\"messages\": [{\"role\": \"user\", \"content\": \"Get weather alerts for California CA\"}]})\n",
    "# print(state.get(\"__interrupt__\"))  # Shows the interrupt prompt\n",
    "# decision = input(\"Approve (yes/no): \")\n",
    "# state = graph.invoke(Command(resume=decision), config=config)\n",
    "print(state[\"messages\"][-1].content)"
   ]
  },
  {
   "cell_type": "code",
   "execution_count": null,
   "id": "28f9907e",
   "metadata": {},
   "outputs": [],
   "source": [
    "from langsmith import traceable\n",
    "\n",
    "@traceable\n",
    "def call_graph(query: str):\n",
    "    state = graph.invoke({\"messages\": [{\"role\": \"user\", \"content\": query}]})\n",
    "    return state[\"messages\"][-1].content\n",
    "\n",
    "call_graph(\"what is the weather in Arizona AZ\")"
   ]
  },
  {
   "cell_type": "code",
   "execution_count": null,
   "id": "62fb6c35",
   "metadata": {},
   "outputs": [],
   "source": []
  }
 ],
 "metadata": {
  "kernelspec": {
   "display_name": ".venv",
   "language": "python",
   "name": "python3"
  },
  "language_info": {
   "codemirror_mode": {
    "name": "ipython",
    "version": 3
   },
   "file_extension": ".py",
   "mimetype": "text/x-python",
   "name": "python",
   "nbconvert_exporter": "python",
   "pygments_lexer": "ipython3",
   "version": "3.13.2"
  }
 },
 "nbformat": 4,
 "nbformat_minor": 5
}
